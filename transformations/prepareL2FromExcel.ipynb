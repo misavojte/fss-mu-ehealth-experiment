{
 "cells": [
  {
   "cell_type": "code",
   "execution_count": 1,
   "metadata": {},
   "outputs": [
    {
     "name": "stdout",
     "output_type": "stream",
     "text": [
      "Data has been written to ../src/lib/data/doctorsL2.ts\n"
     ]
    }
   ],
   "source": [
    "import pandas as pd\n",
    "\n",
    "# Define the correct data types for the columns\n",
    "dtype_dict = {\n",
    "    'nr': str,\n",
    "    'nr2': str,\n",
    "    'type': str,\n",
    "    'star_statement': str,\n",
    "    'reviewer_nick': str,\n",
    "    'order': str,\n",
    "    'statement': str,\n",
    "    'name_doc': str,\n",
    "    'star_doc': str,\n",
    "    'rev_nr': str\n",
    "}\n",
    "\n",
    "# Read the Excel file with specified data types\n",
    "file_path = './stimuli_l2.xlsx'  # Replace with the actual file path\n",
    "df = pd.read_excel(file_path, dtype=dtype_dict)\n",
    "\n",
    "# Group the rows by doctor (nr, doctor_name, rev_nr, order)\n",
    "grouped = df.groupby(['nr', 'name_doc', 'rev_nr', 'order', 'star_doc'])\n",
    "\n",
    "# Generate the TypeScript array of objects\n",
    "ts_objects = f\"\"\"\n",
    "import type {{ IDoctorObjectL2 }} from \"$lib/interfaces/IDoctor\";\n",
    "/*\n",
    "Automatically generated stimuli data from the Excel sheet for level 2\n",
    "*/\n",
    "export const doctorsL2: IDoctorObjectL2[] = [\\n\"\"\"\n",
    "\n",
    "# Loop through each group and create TypeScript object for each doctor\n",
    "for (nr, doctor_name, rev_nr, order, star_doc), group in grouped:\n",
    "    # Create a list of reviews for this doctor\n",
    "    reviews_list = []\n",
    "    for _, row in group.iterrows():\n",
    "        review = f\"\"\"    {{\n",
    "        nr: \"{row['nr']}\",\n",
    "        nr2: \"{row['nr2']}\",\n",
    "        star_statement: \"{row['star_statement']}\",\n",
    "        statement: \"{row['statement']}\",\n",
    "        reviewer_nick: \"{row['reviewer_nick']}\",\n",
    "        type: \"{row['type']}\"\n",
    "    }}\"\"\"\n",
    "        reviews_list.append(review)\n",
    "    \n",
    "    # Convert the list of reviews into a single string\n",
    "    reviews_str = \",\\n\".join(reviews_list)\n",
    "    \n",
    "    # Add the doctor object with its reviews\n",
    "    ts_objects += f\"\"\"  {{\n",
    "    nr: \"{nr}\",\n",
    "    doctor_name: \"{doctor_name}\",\n",
    "    rev_nr: \"{rev_nr}\",\n",
    "    order: \"{order}\",\n",
    "    star_doc: \"{star_doc}\",\n",
    "    reviews: [\n",
    "{reviews_str}\n",
    "    ]\n",
    "  }},\n",
    "\"\"\"\n",
    "\n",
    "ts_objects += \"];\"\n",
    "\n",
    "# Define the path to save the TypeScript file\n",
    "output_file_path = '../src/lib/data/doctorsL2.ts'\n",
    "\n",
    "# Write the TypeScript constant object array to the file\n",
    "with open(output_file_path, 'w') as file:\n",
    "    file.write(ts_objects)\n",
    "\n",
    "print(f\"Data has been written to {output_file_path}\")\n"
   ]
  }
 ],
 "metadata": {
  "kernelspec": {
   "display_name": "base",
   "language": "python",
   "name": "python3"
  },
  "language_info": {
   "codemirror_mode": {
    "name": "ipython",
    "version": 3
   },
   "file_extension": ".py",
   "mimetype": "text/x-python",
   "name": "python",
   "nbconvert_exporter": "python",
   "pygments_lexer": "ipython3",
   "version": "3.12.3"
  }
 },
 "nbformat": 4,
 "nbformat_minor": 2
}
