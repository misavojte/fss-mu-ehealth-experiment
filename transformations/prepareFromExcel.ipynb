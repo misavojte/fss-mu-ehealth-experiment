{
 "cells": [
  {
   "cell_type": "code",
   "execution_count": 12,
   "metadata": {},
   "outputs": [
    {
     "name": "stdout",
     "output_type": "stream",
     "text": [
      "Data has been written to ../src/lib/ExperimentStimulus.data.ts\n"
     ]
    }
   ],
   "source": [
    "import pandas as pd\n",
    "\n",
    "# Define the correct data types for the columns\n",
    "dtype_dict = {\n",
    "    'pict_id': str,\n",
    "    'type': str,\n",
    "    'order': str,\n",
    "    'stars_avg': float,  # Force stars_avg to be treated as a float\n",
    "    'star_1': int,\n",
    "    'star_2': int,\n",
    "    'star_3': int,\n",
    "    'star_4': int,\n",
    "    'star_5': int,\n",
    "    'doctor_name': str\n",
    "}\n",
    "\n",
    "# Read the Excel file with specified data types\n",
    "file_path = './stimuli.xlsx'  # Replace with the actual file path\n",
    "df = pd.read_excel(file_path, dtype=dtype_dict)\n",
    "\n",
    "# Generate the TypeScript array of objects\n",
    "ts_objects = f\"\"\"\n",
    "/*\n",
    "Automatically generated stimuli data from the Excel sheet\n",
    "*/\n",
    "const data = [\\n\"\"\"\n",
    "\n",
    "# Loop through each row in the DataFrame and convert it to a TypeScript object\n",
    "for _, row in df.iterrows():\n",
    "    ts_objects += f\"\"\"  {{\n",
    "    pict_id: \"{row['pict_id']}\",\n",
    "    type: \"{row['type']}\",\n",
    "    order: \"{row['order']}\",\n",
    "    stars_avg: {row['stars_avg']},\n",
    "    star_1: {row['star_1']},\n",
    "    star_2: {row['star_2']},\n",
    "    star_3: {row['star_3']},\n",
    "    star_4: {row['star_4']},\n",
    "    star_5: {row['star_5']},\n",
    "    doctor_name: \"{row['doctor_name']}\"\n",
    "  }},\n",
    "\"\"\"\n",
    "\n",
    "ts_objects += \"] as const;\"\n",
    "\n",
    "# Define the path to save the TypeScript file\n",
    "output_file_path = '../src/lib/data/doctors.ts'\n",
    "\n",
    "# Write the TypeScript constant object array to the file\n",
    "with open(output_file_path, 'w') as file:\n",
    "    file.write(ts_objects)\n",
    "\n",
    "print(f\"Data has been written to {output_file_path}\")\n"
   ]
  }
 ],
 "metadata": {
  "kernelspec": {
   "display_name": "proda",
   "language": "python",
   "name": "python3"
  },
  "language_info": {
   "codemirror_mode": {
    "name": "ipython",
    "version": 3
   },
   "file_extension": ".py",
   "mimetype": "text/x-python",
   "name": "python",
   "nbconvert_exporter": "python",
   "pygments_lexer": "ipython3",
   "version": "3.11.5"
  }
 },
 "nbformat": 4,
 "nbformat_minor": 2
}
